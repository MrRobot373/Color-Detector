{
 "cells": [
  {
   "cell_type": "code",
   "execution_count": 1,
   "metadata": {},
   "outputs": [],
   "source": [
    "import cv2"
   ]
  },
  {
   "cell_type": "code",
   "execution_count": 2,
   "metadata": {},
   "outputs": [
    {
     "data": {
      "text/plain": [
       "True"
      ]
     },
     "execution_count": 2,
     "metadata": {},
     "output_type": "execute_result"
    }
   ],
   "source": [
    "cap = cv2.VideoCapture(1)\n",
    "cap.set(cv2.CAP_PROP_FRAME_WIDTH,1280)\n",
    "cap.set(cv2.CAP_PROP_FRAME_HEIGHT,720)"
   ]
  },
  {
   "cell_type": "code",
   "execution_count": 3,
   "metadata": {},
   "outputs": [],
   "source": [
    "\n",
    "while True:\n",
    "    _, frame = cap.read()\n",
    "    hsv_fram= cv2.cvtColor(frame,cv2.COLOR_BGR2HSV)\n",
    "    height,width,_=frame.shape\n",
    "\n",
    "    cx= int(width/2)\n",
    "    cy= int(height/2)\n",
    "\n",
    "    pixel_center=hsv_fram[cy,cx]\n",
    "    hue_value= pixel_center[0]\n",
    "    if hue_value < 5:\n",
    "        color = \"RED\"\n",
    "    elif hue_value < 11:\n",
    "        color = \"ORANGE\"\n",
    "    elif hue_value < 21:\n",
    "        color = \"YELLOW\"\n",
    "    elif hue_value < 31:\n",
    "        color = \"Green\"\n",
    "    elif hue_value < 41:\n",
    "        color = \"Green\"\n",
    "    elif hue_value < 51:\n",
    "        color = \"INDIGO\"\n",
    "    elif hue_value < 61:\n",
    "        color = \"VIOLET\"\n",
    "    elif hue_value < 71:\n",
    "        color = \"PINK\"\n",
    "    elif hue_value < 81:\n",
    "        color = \"LIGHT PINK\"\n",
    "    elif hue_value < 91:\n",
    "        color = \"DARK PINK\"\n",
    "    elif hue_value < 101:\n",
    "        color = \"WHITE\"\n",
    "    elif hue_value < 111:\n",
    "        color = \"BLACK\"\n",
    "    elif hue_value < 121:\n",
    "        color = \"GRAY\"\n",
    "    else:\n",
    "        color=\"RED\"\n",
    "    \n",
    "    \n",
    "    pixel_center_bgr=frame[cy,cx]\n",
    "    b,g,r=int(pixel_center_bgr[0]),int(pixel_center_bgr[1]),int(pixel_center_bgr[2])\n",
    "    cv2.putText(frame,color,(18,70),0,1.5,(b,g,r),2)\n",
    "    cv2.circle(frame,(cx,cy),5,(0,0,0),3)\n",
    "    \n",
    "\n",
    "    cv2.imshow(\"Color Detection\", frame)\n",
    "    key = cv2.waitKey(1)\n",
    "    if key == 27:\n",
    "        break\n",
    "\n"
   ]
  },
  {
   "cell_type": "code",
   "execution_count": null,
   "metadata": {},
   "outputs": [],
   "source": [
    "cap.release()\n",
    "cv2.destroyAllWindows()"
   ]
  }
 ],
 "metadata": {
  "kernelspec": {
   "display_name": "Python 3",
   "language": "python",
   "name": "python3"
  },
  "language_info": {
   "codemirror_mode": {
    "name": "ipython",
    "version": 3
   },
   "file_extension": ".py",
   "mimetype": "text/x-python",
   "name": "python",
   "nbconvert_exporter": "python",
   "pygments_lexer": "ipython3",
   "version": "3.10.4"
  },
  "orig_nbformat": 4
 },
 "nbformat": 4,
 "nbformat_minor": 2
}
